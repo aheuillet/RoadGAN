{
  "cells": [
    {
      "cell_type": "markdown",
      "metadata": {
        "colab_type": "text",
        "id": "KFPcBuVFw61h"
      },
      "source": [
        "# Overview\n",
        "\n",
        "This colab demonstrates the steps to use the DeepLab model to perform semantic segmentation on a sample input image. Expected outputs are semantic labels overlayed on the sample image.\n",
        "\n",
        "### About DeepLab\n",
        "The models used in this colab perform semantic segmentation. Semantic segmentation models focus on assigning semantic labels, such as sky, person, or car, to multiple objects and stuff in a single image."
      ]
    },
    {
      "cell_type": "markdown",
      "metadata": {
        "colab_type": "text",
        "id": "t3ozFsEEP-u_"
      },
      "source": [
        "# Instructions\n",
        "<h3><a href=\"https://cloud.google.com/tpu/\"><img valign=\"middle\" src=\"https://raw.githubusercontent.com/GoogleCloudPlatform/tensorflow-without-a-phd/master/tensorflow-rl-pong/images/tpu-hexagon.png\" width=\"50\"></a>  &nbsp;&nbsp;Use a free TPU device</h3>\n",
        "\n",
        "   1. On the main menu, click Runtime and select **Change runtime type**. Set \"TPU\" as the hardware accelerator.\n",
        "   1. Click Runtime again and select **Runtime > Run All**. You can also run the cells manually with Shift-ENTER."
      ]
    },
    {
      "cell_type": "markdown",
      "metadata": {
        "colab_type": "text",
        "id": "7cRiapZ1P3wy"
      },
      "source": [
        "## Import Libraries"
      ]
    },
    {
      "cell_type": "code",
      "execution_count": 1,
      "metadata": {},
      "outputs": [],
      "source": [
        "import os\n",
        "from io import BytesIO\n",
        "import tarfile\n",
        "import tempfile\n",
        "from six.moves import urllib\n",
        "\n",
        "import numpy as np\n",
        "from PIL import Image\n",
        "from tqdm.notebook import tqdm\n",
        "\n",
        "import tensorflow as tf"
      ]
    },
    {
      "cell_type": "markdown",
      "metadata": {
        "colab_type": "text",
        "id": "p47cYGGOQE1W"
      },
      "source": [
        "## Import helper methods\n",
        "These methods help us perform the following tasks:\n",
        "* Load the latest version of the pretrained DeepLab model\n",
        "* Load the colormap from the PASCAL VOC dataset\n",
        "* Adds colors to various labels, such as \"pink\" for people, \"green\" for bicycle and more\n",
        "* Visualize an image, and add an overlay of colors on various regions"
      ]
    },
    {
      "cell_type": "code",
      "execution_count": 2,
      "metadata": {},
      "outputs": [],
      "source": [
        "class DeepLabModel(object):\n",
        "  \"\"\"Class to load deeplab model and run inference.\"\"\"\n",
        "\n",
        "  INPUT_TENSOR_NAME = 'ImageTensor:0'\n",
        "  OUTPUT_TENSOR_NAME = 'SemanticPredictions:0'\n",
        "  INPUT_SIZE = 513\n",
        "  FROZEN_GRAPH_NAME = 'frozen_inference_graph'\n",
        "\n",
        "  def __init__(self, tarball_path):\n",
        "    \"\"\"Creates and loads pretrained deeplab model.\"\"\"\n",
        "    self.graph = tf.Graph()\n",
        "\n",
        "    graph_def = None\n",
        "    # Extract frozen graph from tar archive.\n",
        "    tar_file = tarfile.open(tarball_path)\n",
        "    for tar_info in tar_file.getmembers():\n",
        "      if self.FROZEN_GRAPH_NAME in os.path.basename(tar_info.name):\n",
        "        file_handle = tar_file.extractfile(tar_info)\n",
        "        graph_def = tf.compat.v1.GraphDef.FromString(file_handle.read())\n",
        "        break\n",
        "\n",
        "    tar_file.close()\n",
        "\n",
        "    if graph_def is None:\n",
        "      raise RuntimeError('Cannot find inference graph in tar archive.')\n",
        "\n",
        "    with self.graph.as_default():\n",
        "      tf.import_graph_def(graph_def, name='')\n",
        "\n",
        "    self.sess = tf.compat.v1.Session(graph=self.graph)\n",
        "\n",
        "  def run(self, image):\n",
        "    \"\"\"Runs inference on a single image.\n",
        "\n",
        "    Args:\n",
        "      image: A PIL.Image object, raw input image.\n",
        "\n",
        "    Returns:\n",
        "      resized_image: RGB image resized from original input image.\n",
        "      seg_map: Segmentation map of `resized_image`.\n",
        "    \"\"\"\n",
        "    width, height = image.size\n",
        "    #resize_ratio = 1.0 * self.INPUT_SIZE / max(width, height)\n",
        "    target_size = (2048, 1024)\n",
        "    resized_image = image.convert('RGB').resize(target_size, Image.LANCZOS)\n",
        "    batch_seg_map = self.sess.run(\n",
        "        self.OUTPUT_TENSOR_NAME,\n",
        "        feed_dict={self.INPUT_TENSOR_NAME: [np.asarray(resized_image)]})\n",
        "    seg_map = batch_seg_map[0]\n",
        "    return resized_image, seg_map\n",
        "\n",
        "\n",
        "def create_pascal_label_colormap():\n",
        "  \"\"\"Creates a label colormap used in PASCAL VOC segmentation benchmark.\n",
        "\n",
        "  Returns:\n",
        "    A Colormap for visualizing segmentation results.\n",
        "  \"\"\"\n",
        "  colormap = np.zeros((256, 3), dtype=int)\n",
        "  ind = np.arange(256, dtype=int)\n",
        "\n",
        "  for shift in reversed(range(8)):\n",
        "    for channel in range(3):\n",
        "      colormap[:, channel] |= ((ind >> channel) & 1) << shift\n",
        "    ind >>= 3\n",
        "\n",
        "  return colormap\n",
        "\n",
        "def create_cityscapes_label_colormap():\n",
        "  \"\"\"Creates a label colormap used in CITYSCAPES segmentation benchmark.\n",
        "\n",
        "  Returns:\n",
        "    A colormap for visualizing segmentation results.\n",
        "  \"\"\"\n",
        "  colormap = np.zeros((256, 3), dtype=np.uint8)\n",
        "  colormap[0] = [128, 64, 128]\n",
        "  colormap[1] = [244, 35, 232]\n",
        "  colormap[2] = [70, 70, 70]\n",
        "  colormap[3] = [102, 102, 156]\n",
        "  colormap[4] = [190, 153, 153]\n",
        "  colormap[5] = [153, 153, 153]\n",
        "  colormap[6] = [250, 170, 30]\n",
        "  colormap[7] = [220, 220, 0]\n",
        "  colormap[8] = [107, 142, 35]\n",
        "  colormap[9] = [152, 251, 152]\n",
        "  colormap[10] = [70, 130, 180]\n",
        "  colormap[11] = [220, 20, 60]\n",
        "  colormap[12] = [255, 0, 0]\n",
        "  colormap[13] = [0, 0, 142]\n",
        "  colormap[14] = [0, 0, 70]\n",
        "  colormap[15] = [0, 60, 100]\n",
        "  colormap[16] = [0, 80, 100]\n",
        "  colormap[17] = [0, 0, 230]\n",
        "  colormap[18] = [119, 11, 32]\n",
        "  return colormap\n",
        "\n",
        "\n",
        "def label_to_color_image(label):\n",
        "  \"\"\"Adds color defined by the dataset colormap to the label.\n",
        "\n",
        "  Args:\n",
        "    label: A 2D array with integer type, storing the segmentation label.\n",
        "\n",
        "  Returns:\n",
        "    result: A 2D array with floating type. The element of the array\n",
        "      is the color indexed by the corresponding element in the input label\n",
        "      to the PASCAL color map.\n",
        "\n",
        "  Raises:\n",
        "    ValueError: If label is not of rank 2 or its value is larger than color\n",
        "      map maximum entry.\n",
        "  \"\"\"\n",
        "  if label.ndim != 2:\n",
        "    raise ValueError('Expect 2-D input label')\n",
        "\n",
        "  colormap = create_cityscapes_label_colormap()\n",
        "\n",
        "  if np.max(label) >= len(colormap):\n",
        "    raise ValueError('label value too large.')\n",
        "\n",
        "  return colormap[label]"
      ]
    },
    {
      "cell_type": "markdown",
      "metadata": {
        "colab_type": "text",
        "id": "nGcZzNkASG9A"
      },
      "source": [
        "## Select a pretrained model\n",
        "We have trained the DeepLab model using various backbone networks."
      ]
    },
    {
      "cell_type": "code",
      "execution_count": 3,
      "metadata": {},
      "outputs": [
        {
          "output_type": "stream",
          "name": "stdout",
          "text": "model loaded successfully!\n"
        }
      ],
      "source": [
        "model_path = 'xception71.tar.gz'\n",
        "\n",
        "MODEL = DeepLabModel(model_path)\n",
        "print('model loaded successfully!')"
      ]
    },
    {
      "cell_type": "markdown",
      "metadata": {
        "colab_type": "text",
        "id": "SZst78N-4OKO"
      },
      "source": [
        "## Run on sample images\n",
        "\n",
        "Select one of sample images (leave `IMAGE_URL` empty) or feed any internet image\n",
        "url for inference.\n",
        "\n",
        "Note that this colab uses single scale inference for fast computation,\n",
        "so the results may slightly differ from the visualizations in the\n",
        "[README](https://github.com/tensorflow/models/blob/master/research/deeplab/README.md) file,\n",
        "which uses multi-scale and left-right flipped inputs."
      ]
    },
    {
      "cell_type": "code",
      "execution_count": 4,
      "metadata": {},
      "outputs": [
        {
          "output_type": "stream",
          "name": "stdout",
          "text": "running deeplab on video sequence /home/alexandre/Documents/RoadGAN/inference/refs_img/images...\n"
        },
        {
          "output_type": "display_data",
          "data": {
            "text/plain": "HBox(children=(FloatProgress(value=0.0, max=2.0), HTML(value='')))",
            "application/vnd.jupyter.widget-view+json": {
              "version_major": 2,
              "version_minor": 0,
              "model_id": "1fd27794671848b6814485b3285e84cc"
            }
          },
          "metadata": {}
        },
        {
          "output_type": "stream",
          "name": "stdout",
          "text": "\n"
        },
        {
          "output_type": "display_data",
          "data": {
            "text/plain": "HBox(children=(FloatProgress(value=1.0, bar_style='info', max=1.0), HTML(value='')))",
            "application/vnd.jupyter.widget-view+json": {
              "version_major": 2,
              "version_minor": 0,
              "model_id": "0d519bd3be1c423da23d52929d22b308"
            }
          },
          "metadata": {}
        },
        {
          "output_type": "stream",
          "name": "stdout",
          "text": "\n"
        },
        {
          "output_type": "display_data",
          "data": {
            "text/plain": "HBox(children=(FloatProgress(value=1.0, bar_style='info', max=1.0), HTML(value='')))",
            "application/vnd.jupyter.widget-view+json": {
              "version_major": 2,
              "version_minor": 0,
              "model_id": "448d8f620c2746328841324823798009"
            }
          },
          "metadata": {}
        },
        {
          "output_type": "stream",
          "name": "stdout",
          "text": "\n"
        }
      ],
      "source": [
        "\n",
        "SEQUENCE_DIR = '/home/alexandre/Documents/RoadGAN/inference/test/'  \n",
        "SAVE_DIR = '/home/alexandre/Documents/RoadGAN/inference/labels/'\n",
        "IMG_WIDTH = 2048\n",
        "IMG_HEIGTH = 1024\n",
        "\n",
        "def run_labelling():\n",
        "  \"\"\"Inferences DeepLab model to create segmentation maps.\"\"\"\n",
        "\n",
        "  print('running deeplab on video sequence %s...' % SEQUENCE_DIR)\n",
        "  save_path = ''\n",
        "  if not os.path.exists(SAVE_DIR):\n",
        "    os.mkdir(SAVE_DIR)\n",
        "  for root, dirs, files in os.walk(SEQUENCE_DIR):\n",
        "    for d in tqdm(dirs):\n",
        "      save_path = os.path.join(SAVE_DIR, d.split(\"/\")[-1])\n",
        "      if not os.path.exists(save_path):\n",
        "        os.mkdir(save_path)\n",
        "      d_real_path = os.path.join(SEQUENCE_DIR, d)\n",
        "      for f in sorted(os.listdir(d_real_path)):\n",
        "        fpath = os.path.join(d_real_path, f)\n",
        "        if os.path.isfile(fpath):\n",
        "          original_im = Image.open(fpath)\n",
        "          _, seg_map = MODEL.run(original_im)\n",
        "          seg_im = Image.fromarray(label_to_color_image(seg_map).astype(np.uint8))\n",
        "          seg_im = seg_im.convert(\"P\", palette=Image.ADAPTIVE, colors=20) #Convert image to an adaptive monochannel encoding with 20 colors\n",
        "          seg_im.save(os.path.join(save_path, f.split(\".\")[0] + \".png\"))\n",
        "\n",
        "run_labelling()"
      ]
    },
    {
      "cell_type": "markdown",
      "metadata": {
        "colab_type": "text",
        "id": "aUbVoHScTJYe"
      },
      "source": [
        "## What's next\n",
        "\n",
        "* Learn about [Cloud TPUs](https://cloud.google.com/tpu/docs) that Google designed and optimized specifically to speed up and scale up ML workloads for training and inference and to enable ML engineers and researchers to iterate more quickly.\n",
        "* Explore the range of [Cloud TPU tutorials and Colabs](https://cloud.google.com/tpu/docs/tutorials) to find other examples that can be used when implementing your ML project.\n",
        "* For more information on running the DeepLab model on Cloud TPUs, see the [DeepLab tutorial](https://cloud.google.com/tpu/docs/tutorials/deeplab).\n"
      ]
    }
  ],
  "metadata": {
    "colab": {
      "collapsed_sections": [],
      "name": "DeepLab Demo.ipynb",
      "provenance": [],
      "toc_visible": true,
      "version": "0.3.2"
    },
    "kernelspec": {
      "display_name": "Python 3",
      "name": "python3"
    }
  },
  "nbformat": 4,
  "nbformat_minor": 0
}